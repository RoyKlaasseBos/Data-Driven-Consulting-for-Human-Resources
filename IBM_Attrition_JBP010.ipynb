{
  "cells": [
    {
      "metadata": {
        "_uuid": "1a9e49297da54ac10ac69f0f5394d3f5ca10428b",
        "_cell_guid": "68d3896e-e2e4-46b4-8970-5b1edb508add",
        "collapsed": true
      },
      "cell_type": "markdown",
      "source": "<img src=\"https://image.ibb.co/eEk5sb/jads_logo.png\" alt=\"jads_logo\" border=\"0\"  width=500>\n\n<h1 align=center> Introduction to Data Science JBP010 </h1>\n<h1 align=center> Data Driven Consulting for Human Resources </h1>\n\n<h3 align=center> October 31th, 2017</h3>"
    },
    {
      "metadata": {
        "_uuid": "8c205dbffbc8f3e58bf1b86a525ff137bb68e262",
        "_cell_guid": "5fc679b8-4c31-45f6-b8f0-bfdc4b91582b"
      },
      "cell_type": "markdown",
      "source": "*On a daily basis HR leaders and business managers face many complex challenges that can be overcome by adopting a data-driven approach. In this notebook it is illustrated how human resources could benefit from collecting and analyzing employee data to check for gender equality and workforce diversity and to predict employee turnover.*"
    },
    {
      "metadata": {
        "_uuid": "601ce18f11400a73bab6c79744081ce55c73b79a",
        "_cell_guid": "72ef11c0-e7e0-4a94-aa3a-d9eefe263895"
      },
      "cell_type": "markdown",
      "source": "---"
    },
    {
      "metadata": {
        "_uuid": "b2f638c17c18c1f4c127e073f3eee540791e6032",
        "_cell_guid": "a7e78d49-3e03-4a87-9267-a62cc9378609"
      },
      "cell_type": "markdown",
      "source": "## Project Description\n<div align=\"justify\" style=\"width:95%;\">\nA large medicine manufacturer has requested a team of data science students **to identify historical trends for employee attrition and to predict employee turnover in advance** using quantitative methods on a dataset consisting of personal records from all current and past employees. Additionally, the management wonders *what would be effective Human Resource policies given the current workforce and to produce actionable insights in this regard*.\n<br/><br/>\n\nThe Society of Human Resource Managers <a href=\"https://www.huffingtonpost.com/julie-kantor/high-turnover-costs-way-more-than-you-think_b_9197238.html\">(Kantor, 2017)</a> estimates that replacing a salaried employee costs 6 to 9 months' salary on average. Given the median wage for workers in the United States was \\$44,148 per year in 2016 <a href=\"https://www.thebalance.com/average-salary-information-for-us-workers-2060808\">(Doyle, 2017)</a>, this amounts to roughly \\$20K - \\$35K per employee. It follows that recruiting fees are significantly higher than the costs associated with measures to attain employees (e.g. promotion, salary increase, additional trainings etc.). In other words, it's a relevant problem because the financial stakes are high.  \n<br/>\nSince the manufacturer has only recently adopted a data-driven culture, they have very little experience with employee analytics: they used to only produce reports. For that reason the client specifically requested the data scientists to validate the correctness of their internal data and consider more advanced modelling techniques. \n\nGiven this project proposal we first need to establish whether this Data Science project proposal is <i>hype</i> or <i>hope</i>. Therefore, we answer the following three questions: \n\n<ol>\n    <li> <b>What main questions are you trying to answer?</b></li>\n        <ul>\n            <li><i>How can current and future employee attrition be minimized?</i></li> \n            <li><i>What actionable insights can you give on the current composition of our workforce?</i></li>\n        </ul><br>\n\n    <li> <b>Do you have the data to answer the questions?</b></li>\n        <br>The manufacturer supplies the following <a href=\"https://www.kaggle.com/pavansubhasht/ibm-hr-analytics-attrition-dataset\">dataset</a> which consists of 1470 rows and 35 columns. The exploratory analysis, together with the scientific literature, give us a basis to find actionable insights in the data. The predictive analysis shows what features influence attrition, by carefully selecting and tuning a classification model. A similar Kaggle <a href=\"https://www.kaggle.com/ludobenistant/hr-analytics/data\">dataset</a> will be used to validate the findings in aforementioned dataset.\n        Nevertheless, it's very important to note that both datasets are *simulated* which may affect a generalisation to real world data.\n<br><br>\n        We assume that the drawbacks of any resignation outweigh the potential benefits (e.g. better performance of a new hire). This is a reasonable assumption to make since all employees are evaluated either \"Excellent\" or \"Outstanding\" (though in reality is doubtful whether this is really the case). <br><br>\n\n    <li> <b>If we can answer the question, can we use the answer?</b></li>\n        <br>Given that the predictive model produces good results, we are then able to predict what factors are more likely to make an employee quit. With this knowledge, the management and  Human Resources department can take action to minimize the number of resignations, both at company level and individual level. For example, adjustments in the working environment, hiring practises, number of trainings per year, work schedules or employees' salary. <br>\n        <br>\n</ol>\n</div>"
    },
    {
      "metadata": {
        "_uuid": "d45fee4cc248f8ef9b63e4f48dbca5de1ecc072d",
        "_cell_guid": "df6d28f8-4de1-4340-9848-d11116b0ce50"
      },
      "cell_type": "markdown",
      "source": "---"
    },
    {
      "metadata": {
        "_uuid": "e4e6492a9968f5a448cc9dfb9addf9156485ad0b",
        "_cell_guid": "c5955775-2459-4412-9a5f-dfffc21d1cc9"
      },
      "cell_type": "markdown",
      "source": "### Prepare the data\n<br>\n<div align=\"justify\" style=\"width:95%;\">\nThe dataset includes 6 features which don't add any meaningful value (for a complete overview of all features and their definitions see Appendix A. Either all values are identical (`EmployeeCount`, `StandardHours`, `Over18`) or the attribute definition is unspecified (`HourlyRate`, `DailyRate`, `MonthlyRate`). In <a href=\"https://www.kaggle.com/jamestollefson/modeling-the-business-cost-of-retention\">this</a> kernel James Tellefson does an excellent job explaining why the latter type of attributes should not be taken into account. He shows that there is not any correlation between various rates of pay (e.g. `DailyRate` and `MonthlyRate`). Therefore, in the comments he concludes that there doesn't seem to be any meaningful relationship between those features at all. That's why all aforementioned features will be excluded from our analysis. Note that after these transformations we end up with a file without any missing values (`NAs`).</div>"
    },
    {
      "metadata": {
        "_uuid": "5e25ec4547d6312eab44ea14a6b5c066c8a3c340",
        "_cell_guid": "6fb957b1-3b6d-4827-86c8-e748a485d01f",
        "collapsed": true,
        "trusted": false
      },
      "cell_type": "code",
      "source": "%matplotlib inline\nimport pandas as pd; pd.options.display.float_format = '{:,.2f}'.format\nimport numpy as np\nimport matplotlib.pyplot as plt; plt.rcParams['figure.figsize'] = (8,6)\nimport seaborn as sns; sns.set_style(\"dark\")",
      "execution_count": null,
      "outputs": []
    },
    {
      "metadata": {
        "_uuid": "6c1dd616a2722482af87e4d01da3f805097776e9",
        "_kg_hide-input": true,
        "_kg_hide-output": true,
        "collapsed": true,
        "_cell_guid": "d5d136d1-97a7-4ed5-bc83-0431bb50f55b",
        "trusted": false
      },
      "cell_type": "code",
      "source": "import matplotlib.pyplot as plt\n\n\ndef plot_gender_repartition(data, **kwargs):\n    caption = kwargs[\"caption\"]; del kwargs[\"caption\"]\n    gender_repartition = data.groupby([kwargs[\"index\"], kwargs[\"columns\"]], as_index=False).count().pivot(**kwargs)\n    gender_repartition[\"Total\"] = gender_repartition[\"Male\"] + gender_repartition[\"Female\"]\n    gender_repartition[\"Female\"] = gender_repartition[\"Female\"] / gender_repartition[\"Total\"] * 100\n    gender_repartition[\"Male\"] = gender_repartition[\"Male\"] / gender_repartition[\"Total\"] * 100\n    gender_repartition[[\"Female\", \"Male\"]].plot(kind=\"barh\", stacked=True, legend=False)\n    ax = plt.gca()\n    ax.axvline(50, color=\"k\", zorder=0)\n    format_chart(ax, True)\n    label_barh_chart(ax)\n    plt.title(\"{}: Gender Repartition by {}\".format(caption, kwargs[\"index\"]), y=-.2)\n    plt.legend(bbox_to_anchor=(.7, 1.1), ncol=2)\n    plt.subplots_adjust(left=.16, bottom=.2)\n    \ndef format_chart(ax, multiline_labels=False, ticklabel_size=10):\n    [spine.set_visible(False) for spine in ax.spines.values()]\n    #[tl.set_visible(False) for tl in ax.get_xticklabels()]\n    ax.yaxis.set_label_text(\"\")\n    [tl.set(fontsize=ticklabel_size) for tl in ax.get_yticklabels()]\n    if multiline_labels:\n        ylabels = ax.get_yticklabels()\n        new_labels = [label.get_text()[::-1].replace(\" \", \"\\n\", 1)[::-1] for label in ylabels]\n        ax.set_yticklabels(new_labels)\n        \ndef label_barh_chart(ax):\n    text_settings = dict(fontsize=9, fontweight='bold', color=\"w\")\n    rects = ax.patches\n    for i, rect in enumerate(rects):\n        width = rect.get_width()\n        x_pos = width / 2 if i in range(len(rects) // 2) else 100 - width / 2\n        color = \"pink\" if i in range(len(rects) // 2) else \"#2C6388\"\n        rect.set_facecolor(color)\n        label = \"{:.1f}%\".format(rect.get_width())\n        ax.text(x_pos, rect.get_y() + rect.get_height()/2, label, ha='center', va='center', **text_settings)\n        \ndef label_barchart(ax):\n    text_settings = dict(fontsize=9, fontweight='bold', color=\"w\")\n    rects = ax.patches\n    for i, rect in enumerate(rects):\n        x_pos = rect.get_x() + rect.get_width() / 2\n        label = \"{:.1%}\".format(rect.get_height())\n        ax.text(x_pos, .05, label, ha='center', va='center', **text_settings)\n\n",
      "execution_count": null,
      "outputs": []
    },
    {
      "metadata": {
        "_uuid": "f5e33b0ccd9c86820928e3c3cce46cbd69bd0f4c",
        "_cell_guid": "eb26a559-6b5b-4dc3-b0cf-e620c1f1c1a9",
        "collapsed": true,
        "trusted": false
      },
      "cell_type": "code",
      "source": "data = pd.read_csv(\"../input/WA_Fn-UseC_-HR-Employee-Attrition.csv\")\ncolumns_to_drop = ['EmployeeCount', 'StandardHours', 'Over18', 'DailyRate', \n                   'HourlyRate', 'MonthlyRate', \"EmployeeNumber\"]\n\ndata = data.drop(columns_to_drop, axis=1)\ncolumns = [\"Attrition\"] + [col for col in data.columns if col != \"Attrition\"]\ndata = data[columns].replace({\"Yes\": 1, \"No\": 0})\ndata.info()",
      "execution_count": null,
      "outputs": []
    },
    {
      "metadata": {
        "_uuid": "f4b6b40883f8f5728083db1f097e54c81dbdabe9",
        "_cell_guid": "e35fa76c-7e33-41a8-9d8c-fa211d094e7e"
      },
      "cell_type": "markdown",
      "source": "First, let's observe what data are available. Without considering the turnover rate the dataset consists of 27 features which can be grouped as follows:<br><br>\n\n<ul>\n<li><b>Personal</b>:</li>\n<ul><li>Gender, Age, MaritalStatus</li> \n<li>TotalWorkingYears, NumCompaniesWorked</li>\n<li>Education, EducationField</li></ul><br>\n<li><b>Job related</b>:</li> \n<ul><li>JobLevel, JobRole, Department</li>\n<li>MonthlyIncome, StockOptionLevel, PercentSalaryHike</li>\n<li>PerformanceRating, TrainingTimesLastYear, JobInvolvement</li></ul><br>\n<li><b>Career at company</b>:</li> \n<ul><li>YearsAtCompany, YearsInCurrentRole, YearsSinceLastPromotion, YearsWithCurrManager</li></ul><br>\n<li><b>Statisfaction</b>:</li>\n<ul><li> RelationshipSatisfaction, EnvironmentSatisfaction, JobSatisfaction</li></ul><br>\n<li><b>Work intensivity</b>:</li> \n<ul><li>WorkLifeBalance, BusinessTravel, OverTime, DistanceFromHome</li></ul>\n</ul>"
    },
    {
      "metadata": {
        "_uuid": "f16b5b79613dc8584485bccc35624d86523eb939",
        "_cell_guid": "378a15e3-0ead-47e7-9988-eae4bd482897"
      },
      "cell_type": "markdown",
      "source": "## Descriptive Analysis\n<br>\nWe will cover 3 themes in this analysis, namely (1) Workforce Composition, (2) Gender Equality and (3) Turnover, by answering the following 10 questions:\n\n* **Workforce composition**\n    - How loyal are the employees towards the company?\n    - How diverse is the workforce in terms of education? \n    - How does education relate to employee's performance?\n\n\n\n* **Gender equality**\n    - How are genders distributed across the departments of the company? (horizontal repartition) \n    - How are genders distributed across the hierarchy? (vertical repartition)\n    - What differences exist in the compensation of men and women at the same position? \n\n\n\n* **Turnover (Attrition)**\n    - What is the relation between employees satisfaction and attrition?\n    - What impact has the length of the career on the turnover?\n    - How are the different variables correlated?\n    - How good are our features for predicting attrition?   "
    },
    {
      "metadata": {
        "_uuid": "d2bd980cd5d348f3c300b02cdccdd47871bfc182",
        "_cell_guid": "0d3f38ac-5562-4e5d-a7bf-d787265ba6eb"
      },
      "cell_type": "markdown",
      "source": "### 1.1 Workforce composition\n<h4>How loyal are the employees towards the company? </h4>\n<div align=\"justify\"style=\"width:95%;\">\nOur first observation is that the average employee is middle-aged (37 years-old). 50% of the employees are between 30 and 43 years old. The average seniority is 7 years but the standard deviation is important (6 years), mostly because of extreme values: the 3rd quartile is 9 years whereas the maximum is 40 years of tenure. In other words, there are some outliers. Figure 1.1 shows that a great share of the workforce stays loyal the company. That is, the majority of their `TotalWorkingYears` has been spent at the current company (i.e. points close to the diagonal).  \n</div> "
    },
    {
      "metadata": {
        "_uuid": "f1df6e55d1de10e2624046ce9c9cd1b49254b800",
        "_cell_guid": "18cfc060-2151-44fa-9cab-343157687ae5",
        "collapsed": true,
        "trusted": false
      },
      "cell_type": "code",
      "source": "sns.jointplot(x=\"TotalWorkingYears\", y=\"YearsAtCompany\", data=data).plot_joint(sns.kdeplot)\nplt.title(\"Figure 1.1: Employees seniority relative to their working years\", y=-.2)\nplt.subplots_adjust(bottom=.2)\ndata[[\"Age\", \"YearsAtCompany\", \"TotalWorkingYears\"]].describe()",
      "execution_count": null,
      "outputs": []
    },
    {
      "metadata": {
        "_uuid": "0444daeeaef0482e53398e96e0e12497fbc69f83",
        "_cell_guid": "c07c2d4c-1e63-4a75-8e2b-4b0ff6b4422e"
      },
      "cell_type": "markdown",
      "source": "<div align=\"justify\"style=\"width:95%;\">\nIn general, employees tend to stay loyal to the company. It is thus the duty of the management to make sure that their workforce is skilled enough to keep performances up for a number of years. One logical driver of employees' performance is their education. The HR-department should make sure that they select candidates with  appropriate educational backgrounds while keeping a diversified workforce. That is why we look into that in the next section.\n<br/><br />\n<hr>\n<h4>How diverse is the workforce in terms of education?</h4>\nOur data gives us 5 differents fields of study common in the company (Biology, Medical, Marketing, Technical, Human Resources) and 5 levels of education (No Degree, College, Bachelor, Master, PhD). In the next paragraphs we will analyse how the workforce is structured in terms of education and try to discover insights relative to performance.\n<br/><br />\nFigure 1.2 shows the distribution of employees according to their field of study (chart on the left) and the level of their education (chart on the right). The most common levels of education are bachelors and masters, followed by college degrees and college dropouts. The fraction of employees with a PhD. is the smallest which is in accordance with the average number of PhD researchers in the US population (<a href=\"https://www.census.gov/content/dam/Census/library/publications/2016/demo/p20-578.pdf\">Ryan & Bauman, 2016</a>).</div>"
    },
    {
      "metadata": {
        "_uuid": "8fcbf887ec7539e1b4de0aced92c9bd072940290",
        "_cell_guid": "2b3d3bcd-f0d1-49d3-93aa-b4d8475b4eca",
        "collapsed": true,
        "trusted": false
      },
      "cell_type": "code",
      "source": "fig = plt.figure(figsize=(15, 6))\nax1 = fig.add_subplot(121)\nax2 = fig.add_subplot(122, sharey=ax1)\n\nfor i, (ax, label) in enumerate(zip([ax1, ax2], [\"EducationField\", \"Education\"])):\n    vc = data[label].value_counts()\n    if i == 1: vc = vc.sort_index()\n    sns.barplot(x=vc.index, y=vc.values, palette=\"Blues_d\", ax=ax)\n    ax.set_xlabel(\"\")\n    [(label.set_fontsize(9), label.set_rotation(45)) for label in ax.get_xticklabels()]\n\nstudy_fields = [\"Biology\", \"Medical\", \"Marketing\", \"Technical\", \"Other\", \"H.R.\"]; ax1.set_xticklabels(study_fields)\ndiplomas = [\"No degree\", \"College\", \"Bachelor\", \"Master\", \"Ph.D\"]; ax2.set_xticklabels(diplomas)\nax2.yaxis.set_visible(False)\nplt.suptitle(\"Figure 1.2: Educational Backgrounds of the Employees\", size=14)\nplt.subplots_adjust(bottom=.15);",
      "execution_count": null,
      "outputs": []
    },
    {
      "metadata": {
        "_uuid": "e5a84ecf6ad6d4ab8487050413deb98e5bfa0046",
        "_cell_guid": "0630c1f7-a67f-4147-8995-d02eac0d300e"
      },
      "cell_type": "markdown",
      "source": "<div align=\"justify\" style=\"width:95%;\">\nFigure 1.3 below decomposes the employees by department and field of study. We observe a large sales force and a even bigger pool of researchers. Interestingly enough, we see that a variety of  scientific backgrounds work in the Sales department. It would be interesting to know whether these employees are there from the start or whether they originally started as a researcher and moved to a sales position over the course of their career. Additionally, some educational backgrounds seem to be related to an employee's department. For example, employees with a background in Marketing are only present in the Sales department and similarly, people with a HR-diploma work for the HR-department.</div>"
    },
    {
      "metadata": {
        "_uuid": "b6ac2afb0bbd0bf776ff5d1c61d83ae2dfedaafe",
        "_cell_guid": "2df5b410-dca8-49fd-9ec7-de7cdd53893d",
        "collapsed": true,
        "trusted": false
      },
      "cell_type": "code",
      "source": "dept_field = (data.pivot_table(data, index=\"Department\", columns=\"EducationField\", aggfunc='size'))\nplt.figure(figsize=(12,6))\nsns.heatmap(dept_field, annot=True, cmap=\"Blues\", fmt=\".0f\")\nax = plt.gca()\nstudy_fields = [\"H.R.\", \"Biology\", \"Marketing\", \"Medical\", \"Other\", \"Technical\"]; ax.set_xticklabels(study_fields)\nax.set_xlabel(\"\"); ax.set_ylabel(\"\")\nplt.subplots_adjust(left=.2, bottom=.2)\nplt.title(\"Figure 1.3: Repartition of Employees in Departments\", y=-.2);",
      "execution_count": null,
      "outputs": []
    },
    {
      "metadata": {
        "_uuid": "12e258b65d386b9717e6f964f0922a3c75a2b5a7",
        "_cell_guid": "bd0812c9-70fb-434f-9017-8da5a30910b4"
      },
      "cell_type": "markdown",
      "source": "<div align=\"justify\" style=\"width:95%;\">\n<hr>\n<h4>How does education relate to employee's performance?</h4>\nNow, we are interested to observe how well certain types of degrees  perform in different job positions. Since we only have excellent and outstanding performance ratings (3's and 4's), we will look at the proportion of outstanding performers relative to the population with the same combination of education and job role. This allows us to draw conclusions regarding the best matches between job position and field of education.\n<br/><br/>\nThe table below shows the top ten performers. Remarkably, employees with a certain type of background may perform very well in one position while doing badly in another position. For example, managers with a medical diploma do best on average, whereas employees with the same background are performing relatively poorly in a Human Resources position. On the other hand, biologists seem to do quite well as Human Resources employees.\n</div>"
    },
    {
      "metadata": {
        "_uuid": "851c36d2b8c9736603114c9f55cfd7a975cb2515",
        "_cell_guid": "c4df8a58-d710-4184-88f3-d073d3a588a1",
        "collapsed": true,
        "trusted": false
      },
      "cell_type": "code",
      "source": "performance = data.pivot_table(index=['EducationField', 'JobRole'], \n                               columns='PerformanceRating', \n                               values='Attrition', aggfunc='count')\n\nperformance['PercentageTopPerformers'] = performance[4] / (performance[3] + performance[4])\nperformance.sort_values('PercentageTopPerformers', ascending=False).drop([3,4], axis=1).head(10)",
      "execution_count": null,
      "outputs": []
    },
    {
      "metadata": {
        "_uuid": "a38e6dc7d1c96a3be8e5b528e37337bffbaaf32c",
        "_cell_guid": "77e0f82c-2fd4-4718-82da-b788fcbd80a6"
      },
      "cell_type": "markdown",
      "source": "---\n### 1.2. Gender equality\n<div align=\"justify\" style=\"width:95%;\">\nGender equality was, and still is, the topic of many debates. Some studies suggest that a more diverse workplace increases the performance of the company and the general satisfaction among employees. Nowadays most academics agree that our society should aim for a diverse workplace where male and female are equally represented and equally paid.\n<hr>\n<h4>How are genders distributed across the departments of the company? (horizontal repartition)</h4>\nWhile we could not demonstrate any differences in terms of wages between men and women, we have evidence that men are much more represented than women in the company. The ratio of men vs. women is 3:2 (meaning that there are 3 men for 2 women). Furthermore, it seems that the representation of women drops after reaching a certain job level. This may be a sign that a glass ceiling exists in this company.<br><br>\n\nFigure 1.4 below shows the repartition of men and women in the different Job Departments of the company. We observe that the department where the representation of men exceeds women's is the highest in Human Resource Department, with more than twice as many men as women. That being said, all departments have a larger proportion of men than women.\n</div>"
    },
    {
      "metadata": {
        "_uuid": "a16c92ccd0c7a8723b4c9b08c9bd12ca7adcddec",
        "_cell_guid": "73755a9f-16fd-4271-94ce-e1316bf49e4e",
        "collapsed": true,
        "trusted": false
      },
      "cell_type": "code",
      "source": "plot_gender_repartition(data, index=\"Department\", columns=\"Gender\", values=\"Attrition\", caption=\"Figure 1.4\")",
      "execution_count": null,
      "outputs": []
    },
    {
      "metadata": {
        "_uuid": "b224536ac5a579608b7e057475e1b71e444790d6",
        "_cell_guid": "fbf4828e-3853-48b8-a218-f931752c94d0"
      },
      "cell_type": "markdown",
      "source": "<hr>\n<h4>How are genders distributed across the hierarchy? (vertical repartition)</h4>\n<div align=\"justify\" style=\"width:95%;\">\nFigure 1.5 shows the repartition of men and women at the different job levels. We see that the proportion of women increases until almost reaching equal representation for Job Level 4. However, as discussed above, the proportion of women decreases rapidly at Level 5. This might be a sign of a glass ceiling keeping women to reach the higher spheres of hierarchy in this company.\n</div>"
    },
    {
      "metadata": {
        "_uuid": "9e465c54368872048b231de7c39ea2e0fcf1b1d0",
        "_cell_guid": "b339f7e9-7624-4ea0-9302-e1a57066dab2",
        "collapsed": true,
        "trusted": false
      },
      "cell_type": "code",
      "source": "plot_gender_repartition(data, index=\"JobLevel\", columns=\"Gender\", values=\"Attrition\", caption=\"Figure 1.5\")\nplt.gca().set_ylabel(\"JobLevel\");",
      "execution_count": null,
      "outputs": []
    },
    {
      "metadata": {
        "_uuid": "8a71ce1c0cf802182a96972282f0ea245a09d9e2",
        "_cell_guid": "cc8b37e8-03ad-46f0-8ce8-d2a5308b5914"
      },
      "cell_type": "markdown",
      "source": "<hr>\n<h4>What differences exist in the compensation of men and women at the same position?</h4>\n<div align=\"justify\" style=\"width:95%;\">\nAn unbalanced repartition of men and women does not necessarily mean that there is an income gap between genders. Figure 1.6 illustrates that point: for any job level, we see that the ratio between men and women wages is relatively close to 1, which means that women and men are paid equally in this company.\n</div>"
    },
    {
      "metadata": {
        "_uuid": "ca2e0f038fd4914fc0bf76387ac8e4e03259a47d",
        "_cell_guid": "eb1ea176-bba6-4df5-a31c-1b704d4a432e",
        "collapsed": true,
        "trusted": false
      },
      "cell_type": "code",
      "source": "plt.figure()\nsns.barplot(x=\"JobLevel\", y=\"MonthlyIncome\", hue=\"Gender\", data=data, ci=99, palette=[\"pink\", \"#2C6388\"])\nplt.title(\"Figure 1.6: Income gap between men and women\", y=-.2)\nplt.subplots_adjust(bottom=.2);",
      "execution_count": null,
      "outputs": []
    },
    {
      "metadata": {
        "_uuid": "ccf47f72a67ad9f884b72f212cebcff6ebdb2fc5",
        "_cell_guid": "90d2067a-caa3-42c9-abe7-98dc29ff1bcf"
      },
      "cell_type": "markdown",
      "source": "---\n### 1.3 Turnover"
    },
    {
      "metadata": {
        "_uuid": "67ca124780fb8b0c9c005a833f0f731abf8463de",
        "_cell_guid": "c238fc0d-7803-44dd-9dc2-b2f3e41ad11b"
      },
      "cell_type": "markdown",
      "source": "<div align=\"justify\" style=\"width:95%;\">\nNow that we have a better grasp of the data, it is time to explore features variance given the turnover. That is, what can we learn from the differences between employees who stayed at the company and those who left. To do this, we will consider the <i>turnover rate</i> in a group of employees, defined as the proportion of employees who quitted in the general population regarding a given feature.\n\nIn order to get a more precise idea of which department and which field of study is at stake, we have represented the Figure 1.3, but this time with the turnover rate of the employees. We directly see that technical degrees have a higher rate of attrition, and it is maximal when they are working for the H.R. department. The Sales department sees a large share of its employees leave as well.\n</div>"
    },
    {
      "metadata": {
        "_uuid": "538b687b024595610a99007234a53a778255fcbf",
        "_cell_guid": "ccef95fd-5024-436b-861f-deb4e502eaf3",
        "collapsed": true,
        "trusted": false
      },
      "cell_type": "code",
      "source": "attrition_education = data.pivot_table(index=\"Department\", values=\"Attrition\", columns=\"EducationField\", aggfunc=\"mean\")\nplt.figure(figsize=(12,6))\nsns.heatmap(attrition_education, annot=True, cmap=\"Blues\")\nax1, ax2 = plt.gcf().get_axes()\nax1.set_xlabel(\"\"); ax1.set_ylabel(\"\")\nstudy_fields = [\"H.R.\", \"Biology\", \"Marketing\", \"Medical\", \"Other\", \"Technical\"]; ax1.set_xticklabels(study_fields)\nplt.title(\"Figure 1.7: Turnover By Deparment and Education\", y=-.2)\n[el.set_text(\"{:.1%}\".format(float(el.get_text()))) for el in ax1.texts]\nax2.set_yticklabels([\"{:.0%}\".format(float(tl.get_text())) for tl in ax2.get_yticklabels()]);",
      "execution_count": null,
      "outputs": []
    },
    {
      "metadata": {
        "_uuid": "12b717bdb4c892cbf27572b80fd7e4432b616a8b",
        "_cell_guid": "29530f5e-c93b-4ceb-a92e-d3d32b713484"
      },
      "cell_type": "markdown",
      "source": "<div align=\"justify\" style=\"width:95%;\">\n<h4>What is the relation between employees satisfaction and attrition?</h4>\nFigure 1.8 shows that low levels of satisfaction are associated with high rates of turnover. The relation between `JobInvolvment` and `Attrition` is even more striking.\n</div>"
    },
    {
      "metadata": {
        "_uuid": "1b5848f38c22269a125d7a530158502250b35dcb",
        "_cell_guid": "68851777-4da6-400b-a9ce-04a3a7fbca6c"
      },
      "cell_type": "markdown",
      "source": "<figure>\n<img src=\"https://preview.ibb.co/hjgydG/Satisfaction.png\" alt=\"Satisfaction\" border=\"0\" width=600 style=\"float:center;\"/>\n</figure>\n<div align=\"center\">Figure 1.8: Satisfaction vs. Turnover Rate</div>"
    },
    {
      "metadata": {
        "_uuid": "03a3849a5782d4a3d57bdefe4e851e796c3cbe0a",
        "_cell_guid": "37e495d7-975f-42da-9b7b-76f64ac92199"
      },
      "cell_type": "markdown",
      "source": "---\n<h4>What impact has the length of the career on the turnover?</h4>\n<div align=\"justify\" style=\"width:95%;\">\nFigure 1.9 shows a high correlation between low seniority and `Attrition`: the less time an employee has spent in the company, the more likely he is to resign. Surprisingly enough, not having been promoted in a while does not seem to play any significant role when choosing to quit or not the company.\n</div>"
    },
    {
      "metadata": {
        "_uuid": "277dea386c9053180322672e30fbd76e80dcb1ea",
        "_cell_guid": "ec97c756-3d17-486e-8ea2-0d114fdb62aa"
      },
      "cell_type": "markdown",
      "source": "<div align=\"center\">\n<img src=\"https://preview.ibb.co/jA3N5w/Work_Experience.png\" alt=\"Work_Experience\" border=\"0\" width=600 style=\"float:center;\">\n</div>\n<div align=\"center\">Figure 1.9: Satisfaction vs. Turnover Rate</div>"
    },
    {
      "metadata": {
        "_uuid": "52724933cbd48668986a14fba63b2356207b9f6f",
        "_cell_guid": "e2bdf872-5343-4ac1-b15c-384a7139448b"
      },
      "cell_type": "markdown",
      "source": "---\n<h4>How are the different variables correlated?</h4>\n<div align=\"justify\" style=\"width:95%;\">\nIn the predictive analysis, we will try to predict whether or not an employee is likely to quit given a certain number of explanatory variables. In order to get a better feeling of elements which are relatively strongly related with each other, we will observe the existing correlations in our dataset. But before going any further, it is important to transform our data so that categorical features are considered as such, and not as other numerical variables. We will thus create new (dummy) variables for each category. For example, the feature department will be divided into 3 features corresponding to each individual department.\n</div>"
    },
    {
      "metadata": {
        "_uuid": "68643e1a1d9be99c04eec6b6d84681b3469e4b95",
        "_cell_guid": "c2f3ce68-e99c-4c6b-b685-ba985151088b",
        "collapsed": true,
        "trusted": false
      },
      "cell_type": "code",
      "source": "data = data.replace({\"Male\": 1, \"Female\": 0, \"Non-Travel\": 0, \"Travel_Rarely\": 1, \"Travel_Frequently\": 2})\nX, y = pd.get_dummies(data.iloc[:, 1:].copy()), data.iloc[:, 0].copy()",
      "execution_count": null,
      "outputs": []
    },
    {
      "metadata": {
        "_uuid": "056dc7888386d2f218d97bd478295508b3760b62",
        "_cell_guid": "6aa85d97-7b84-4266-8840-96099493c212"
      },
      "cell_type": "markdown",
      "source": "<div align=\"justify\" style=\"width:95%;\">\nThe Figure 1.10 shows a representation of the correlation matrix of our dataset. Elements that share a strong positive correlation will have a dark red intersection, while strong negative correlation will have a dark blue correlation. Weakly correlated variables have lighter tints of color.<br><br/>\nMost of the observed correlations intuitively make sense. For example, employees with a higher job level earn more money, older employees have more work experience, etc. Also note the red area in the upper left red square of the heatmap. These 8 features (`TotalWorkingYears`, `JobLevel`, `MonthlyIncome`, `Age`, `YearsAtCompany`, `YearsInCurrentRole`, `YearsSinceLastPromotion`, `YearswithCurrManager`) are all strongly correlated. These have all something to do with time or experience. Thus a positive relationship between is not surprising. `Attrition` however, does not seem to be correlated with other variables in general, with  the exception of `OverTime` and `MartitalStatus_Single`. <br><br/>\nOveral it is good to see that our dataset does not show too much signs of multicollinearity that might otherwise impact the generalisation of the predictive model.\n</div>"
    },
    {
      "metadata": {
        "_uuid": "623261852c41f747c31834bec9ee4cbc29cc431c",
        "_cell_guid": "39405f68-16ea-47ea-b198-3ff1b9fad2bb",
        "collapsed": true,
        "trusted": false
      },
      "cell_type": "code",
      "source": "df = X.copy()\ndf[\"Attrition\"] = y\ndf = df[[\"Attrition\"] + list(X.columns)]\ncorr = df.corr()\nfig, ax = plt.subplots(figsize=(12,10))\nsns.heatmap(corr, cmap=\"RdYlBu_r\", vmin=-1, vmax=1, ax=ax)\nplt.title('Figure 1.10: How are the variables correlated?', size= 14);",
      "execution_count": null,
      "outputs": []
    },
    {
      "metadata": {
        "_uuid": "af8f2c0a54f44fedfef026368d972e3453a056a1",
        "_cell_guid": "1b0d11dd-8efe-4708-8b93-575ab0f290f2"
      },
      "cell_type": "markdown",
      "source": "---\n<h4>How good are our features for predicting attrition?</h4>\n<div align=\"justify\" style=\"width:95%;\">\nNow we will go one step further in analysing how good our features are to predict attrition. We will look at the predictive power of our variables, by performing an analysis of the variance (ANOVA) to assess the predictive power of our features. ANOVA combined with a Chi-square test answers the question: \"Are two joint distributions independent?\". The output of the test consists of two values: <br>\n<ul>\n<li>The <b>Fisher statistic (F)</b>, which is the ratio between variations in sample means and variations within the samples. A feature that gets a large F value implies that a much of its is impacted on the target variable `Attrition`.</li> \n<li>The <b>p-value</b>, which is the probability to observe such distribution given that two variables are independent. In our case, we want to minimize the p-value.</li></ul>\nGenerally, in such analysis, we will decide of an arbitrary threshold $\\alpha$ that will dictate whether or not a feature passed the test or not. We will choose a confidence level of $1-\\alpha = 95 \\%$, meaning that we will reject every result above this probability, considering that too little of the variation of the target variable can be explained by the variation of one particular feature.<br><br/>\nAs can be seen in the correlation matrix above, we see that `OverTime` and `Attrition` are strongly correlated. From all other features, only one did not pass our test. This means that all of the 26 remaining features have less than 5% probability of being totally independent of the dependent variable `Attrition`.\n</div>"
    },
    {
      "metadata": {
        "_uuid": "228669dcf34d5da6edb3c86f1a3fdf3ddff4d837",
        "_cell_guid": "ce640992-9122-4519-8376-aeea83625e91",
        "collapsed": true,
        "trusted": false
      },
      "cell_type": "code",
      "source": "from sklearn.feature_selection import SelectKBest\n\n# Confidence Threshold\nalpha = .05\n\nnp.random.seed(42)  # To make sure our results are reproducible\nanova_filter = SelectKBest()\nanova_filter.fit(X, y)\n\n\nanova_scores = pd.DataFrame(index=X.columns)\n\nanova_scores[\"Fisher\"] = anova_filter.scores_\nanova_scores[\"p-value\"] = anova_filter.pvalues_\nanova_scores = anova_scores.sort_values(\"Fisher\", ascending=False)\nselected_features = list(anova_scores.loc[anova_scores[\"p-value\"] < 1 - alpha, :].index)\nif len(selected_features) == X.shape[1]:\n    print(\"No discarded feature\")\nX = X[selected_features]\nanova_scores.style.apply(lambda f: [\"color: red\"] * 2 if f[\"p-value\"] > 1-alpha else [\"color: black\"]*2, axis=1)",
      "execution_count": null,
      "outputs": []
    },
    {
      "metadata": {
        "_uuid": "9d6cb26ee88242eade6300b3374d53e772e2e598",
        "_cell_guid": "8488ed8c-b782-4a9f-ab0c-7f4c8df0127e"
      },
      "cell_type": "markdown",
      "source": "---\n## 2. Predictive Analysis"
    },
    {
      "metadata": {
        "_uuid": "1f74cda6594c861be3f25df70809501f19709d48",
        "_cell_guid": "ac00d7d9-2e6a-486b-be80-207aece843fa"
      },
      "cell_type": "markdown",
      "source": "<div align=\"justify\" style=\"width:95%;\">\nThe second part of this analysis is dedicated to predict the turnover rate of employees. After having converted categorical data to numerical data with LabelEncoders, we split the dataset into a training and a testing set. The model selection phase is conducted carefully by further splitting the training set into 10 folds and combining them randomly to training and testing sets (i.e. cross-validation).\n<br><br/>\nSince a large proportion of the target variable is negative, we discarded accuracy as a metric to evaluate the performance of the fitted models. After all, a baseline model (i.e. assume nobody would resign) would correctly classify 80% of our samples, hence reaching a high accuracy without performing well in terms of recall and precision. Instead, we will use a more appriopriate measure the <b>Receiver Operating Characteristic</b> (ROC) curve and its corresponding <b>Area Under the Curve</b> (AUC) score. This metric reflects True Positives versus False Positive. In our case, a dummy classifier would receive a AUC score of 50% which betters reflects its performance compared to the much higher accuracy score of 80% we obtained previously.<br><br/>\nOnce we have selected the best model to use, we tune its parameters by performing an exhaustive GridSearch analysis on its hyperparameters. Then we refit the model on the whole training set on the selected model with the optimal parameters and we calculate the final score of the model. For convenience, we have calculated both AUC scores as well as the recall and precision scores to explore what type of errors our classifier makes.</div>"
    },
    {
      "metadata": {
        "_uuid": "f728a7e1256f9849e85ac90fe20051b1f7514689",
        "_cell_guid": "d3687a6c-28bb-4ff2-a6e0-1595946676f1",
        "collapsed": true,
        "trusted": false
      },
      "cell_type": "code",
      "source": "from sklearn.model_selection import KFold, cross_val_score, train_test_split, GridSearchCV\nfrom sklearn.metrics import roc_auc_score, roc_curve, confusion_matrix, classification_report\nfrom sklearn.dummy import DummyClassifier\nfrom sklearn.svm import SVC\nfrom sklearn.linear_model import LogisticRegression\nfrom sklearn.neighbors import KNeighborsClassifier\nfrom sklearn.naive_bayes import MultinomialNB\nfrom sklearn.tree import DecisionTreeClassifier\nfrom sklearn.ensemble import RandomForestClassifier",
      "execution_count": null,
      "outputs": []
    },
    {
      "metadata": {
        "_uuid": "2e8ad0a43449b18703279e78922ca95709ce8ca7",
        "_cell_guid": "308676b2-c0cf-478f-ba50-5fd88b266901",
        "collapsed": true,
        "trusted": false
      },
      "cell_type": "code",
      "source": "# Train / Test split (size of training set: 75 %)\nX_train, X_test, y_train, y_test = train_test_split(X, y)",
      "execution_count": null,
      "outputs": []
    },
    {
      "metadata": {
        "_uuid": "6c1c7217aac215fc48edbc1f0c18668911c8433d",
        "_cell_guid": "ffd2607a-b8b2-4c4f-8390-d244218aeea7",
        "collapsed": true,
        "trusted": false
      },
      "cell_type": "code",
      "source": "from collections import OrderedDict\nscoring = \"roc_auc\"\n\nmodels = [\n    \n    (\"Dummy\", DummyClassifier(strategy=\"most_frequent\")),\n    (\"SVM\", SVC()), \n    (\"LR\", LogisticRegression()),\n    (\"MultiNB\", MultinomialNB()),\n    (\"kNN\", KNeighborsClassifier()),\n    (\"DT\", DecisionTreeClassifier()), \n    (\"RF\", RandomForestClassifier())\n\n]\n\nresults = OrderedDict()\nfor name, model in models:\n    cv_results = cross_val_score(model, X, y, cv=10, scoring=\"roc_auc\")\n    results[name] = cv_results\n    \nresults = pd.DataFrame(results)\nplt.figure(figsize=(10, 6))\nplt.bar(range(results.shape[1]), results.mean(), yerr=results.std(), color=[\"#2C6388\",\"#2C6388\", \"#B09223\", \"#2C6388\", \"#2C6388\", \"#2C6388\", \"#B09223\"])\nplt.gca().set_xticklabels([\"\"] + list(results.columns) + [\"\"])\nplt.title(\"Figure 2.1: Comparison of AUC score for multiple classifiers\", y=-.2)\nplt.subplots_adjust(bottom=.2)\nlabel_barchart(plt.gca())",
      "execution_count": null,
      "outputs": []
    },
    {
      "metadata": {
        "_uuid": "697bf131a731da44ad60cf9cdc4ae10a37a6ffd7",
        "_cell_guid": "04dc324c-2c75-43a3-b662-ca2719952c41"
      },
      "cell_type": "markdown",
      "source": "<div align=\"justify\" style=\"width:95%;\">\nThe two best base models give us an AUC score of 84.3% and 74.6% for the LogisticRegression and RandomForest respectively. However, we did not perform any tuning of the hyperparameters. This is the next step: we will only select the two top performing models to search among a variety of possible values for the optimal hyperparameters.\n</div>"
    },
    {
      "metadata": {
        "_uuid": "c4a9428526db501f6d3734dd534efde27e0b68cb",
        "_cell_guid": "22dfb622-3e9f-4688-b23b-d5c66f219c74",
        "collapsed": true,
        "trusted": false
      },
      "cell_type": "code",
      "source": "n_features = X_train.shape[1]\nlr_params = {\"penalty\": [\"l1\", \"l2\"], \"C\": np.logspace(-3, 3, 7), \"class_weight\": [\"balanced\", None]}\nrf_params = {\"max_features\": range(5, n_features, (n_features - 5) // 3), \n             \"max_depth\": range(3, 6, 2),\n             \"min_samples_split\": range(5, 101, 25)}\n\nclassifiers = [(\"LogisticRegression\", LogisticRegression()), \n               (\"RandomForest\", RandomForestClassifier(random_state=10))]\n\nbest_models, scores = [], []\nfor (name, clf), params in zip(classifiers, [lr_params, rf_params]):\n    gs = GridSearchCV(clf, params, scoring=\"roc_auc\")\n    gs.fit(X_train, y_train)\n    best_models.append(gs.best_estimator_)\n    y_pred = gs.predict(X_test)\n    scores.append(roc_auc_score(y_test, y_pred))\n    gs_results = pd.DataFrame(gs.cv_results_).drop(\"params\", axis=1).sort_values(\"rank_test_score\")\n    print(\"\\n{}:\\n\".format(name))\n    print(\"\\tAccuracy: {:.2%}\".format((y_pred == y_test).mean()))\n    print(\"\\tAUC Score (Train set): {:.2%}\".format(gs.best_score_))\n    print(\"\\tAUC Score (Test set): {:.2%}\\n\".format(scores[-1]))\n    print(classification_report(y_test, y_pred))\n    print(best_models[-1], \"\\n\")\n    if name == \"LogisticRegression\": print(\"#\" * 100)",
      "execution_count": null,
      "outputs": []
    },
    {
      "metadata": {
        "_uuid": "04189bb1ae85e30eb5e2a99d645e2efac6afe97a",
        "_cell_guid": "c205d7de-d169-44b0-86d9-77f8afe2c3cf"
      },
      "cell_type": "markdown",
      "source": "<div align=\"justify\" style=\"width:95%;\">\nIt turns out the Logistic Regression model gives the best results, scoring an AUC score of 83.7% on the training set and 69.8% on the test set. Also, the logistic model performs better in terms of recall and precision. In fact, it correctly classifies 44% (vs 10%) of all employees who quitted and once it predicts an employee will resign this prediction is correct 62% (vs. 33%) of the time. Further, it seems that the RandomForest may overfit, given the difference between the score on training and testing sets (80.1% vs 53.7%).<br><br>\n\nNote that the score that we got after tuning the hyperparameters (69.8%) is much lower than the previous score from the cross-validation (84.3%). The testing methodology that was adopted required us to first split the test in 75% training set and 25% testing set. Then, the cross-validation further splitted the training set into 10 folds. The scores have been calculated on a sample of 7.5% of the total volume dataset (i.e. $\\sim110$ rows) and 2.5% for the testing set. We think that this explains the observed difference in performance.<br>\n</div>"
    },
    {
      "metadata": {
        "_uuid": "4a1e354ba283133f52e5fe7dfad0cd46ece2f6ae",
        "_cell_guid": "227d265c-7d18-482a-9ede-77ce5da246fd",
        "collapsed": true,
        "trusted": false
      },
      "cell_type": "code",
      "source": "lr_scores = best_models[0].predict_proba(X_test)[:, 1]\nrf_scores = best_models[1].predict_proba(X_test)[:, 1]\nlr_fpr, lr_tpr, _ = roc_curve(y_test.ravel(), lr_scores.ravel())\nrf_fpr, rf_tpr, _ = roc_curve(y_test.ravel(), rf_scores.ravel())\nplt.plot(lr_fpr, lr_tpr, 'b', label='LogisticRegression (AUC={:.2%})'.format(scores[0]))\nplt.plot(rf_fpr, rf_tpr, 'g', label='RandomForest (AUC={:.2%})'.format(scores[1]))\nplt.title('Figure 2.2: Receiver Operating Characteristic')\nplt.plot([0,1],[0,1],'r--', label=\"Random predictions\")\nplt.legend(loc=4)\nplt.ylabel('True Positive Rate'); plt.xlabel('False Positive Rate');",
      "execution_count": null,
      "outputs": []
    },
    {
      "metadata": {
        "_uuid": "9ad894b75dc8d84ac38e156a1d513e279545cc23",
        "_cell_guid": "73fcadbb-7138-40af-8b80-be0de60061bb"
      },
      "cell_type": "markdown",
      "source": "<div align=\"justify\" style=\"width:95%;\">\nFigure 2.2 displays the ROC curve for both classifiers, that is the True Positive Rate (TPR) as a function of the False Positive Rate (FPR). We see that LogisticRegression performs always at least as well as the RandomForest. Note that the best possible classifier has a TPR of 1 and a FPR of 0 (meaning that all persons having quitted have been well classified, a no one who has remained has been misclassified).<br><br>\n\nThe table below shows the feature importances (coefficients of the logistic model). As expected, `OverTime` is the feature which affects turnover the most (see below). Features related to employee's well being like `JobInvolvement`, `WorkLifeBalance`, `EnvironmentSatisfaction` and `JobSatisfaction` are inversely proportional to the turnover rate. <br>\nThe same observation can be done for Professional Experience features like `JobLevel`, `YearsInCurrentRole` and `TotalWorkingYears`. One observation in particular is alarming: `PerformanceRating` is positively correlated to `Attrition` which can be a sign of Brain Drain. This phenomena implies that the best performing employees move to other companies because their current employer does not fulfill their expectations. \n</div>"
    },
    {
      "metadata": {
        "_uuid": "4ab3c384abea68f4e09842b7ed155cd716719012",
        "_cell_guid": "24c442d6-5ab8-4745-9e48-7ec196efbc71",
        "collapsed": true,
        "trusted": false
      },
      "cell_type": "code",
      "source": "clf = best_models[0]\ncoef = pd.DataFrame(index=X_train.columns)\ncoef[\"Coefficients\"] = clf.coef_[0]\ncoef.sort_values(\"Coefficients\", ascending=False)",
      "execution_count": null,
      "outputs": []
    },
    {
      "metadata": {
        "_uuid": "c9a7c7b6d1230b44870ad2efc73883ffd7f8f2be",
        "_cell_guid": "3c47cd92-2a31-4b7a-8976-71cac6c3ca3e"
      },
      "cell_type": "markdown",
      "source": "---\n## Conclusion\n<div align=\"justify\" style=\"width=95%\">\n\n\n</div>"
    },
    {
      "metadata": {
        "_uuid": "180517d2483c54a785cedc2f3fe3f8677e717888",
        "_cell_guid": "3a4dff61-d6c4-4dda-935c-35cffd8c8669"
      },
      "cell_type": "markdown",
      "source": "<div align=\"justify\" style=\"width: 95%\">\nComing back to our starting questions, let's see if we have more elements to answer them:<br><br>\n<ul>\n    <li><b>How can current and future employee attrition be minimized?</b></li> \n</ul><br>\nFirst, we observed that employees working overtime are significantly more likely to resign. Our first recommendation is therefore to understand why they are working overtime. For example, if it turns out they have a too high workload, appropriate measures must be taken to reduce the workload.\n<br><br>\nSecond, it seems that once an employee has worked for a certain number of years in the company he will be less likely to resign. That's why it is important to make sure that new hires feel satisfied from the very beginning, especially because at this stage they are most likely to quit. \n<br><br>\nThird, the company must be careful not to lose too many employees with a techncial background, especially in the human resources department where the average attrition rate for these employees is 50%. The same holds for laboratory technicians who are far more likely to resign. Therefore it is recommended to further investigate why these employees have a higher attrition rate.\n<br><br>\nFourth, employees can be incentivized to stay by offering stock options. After all, the multinomial logistic regression coefficient show that stock options are negatively related to attrition. \n<br><br>\nFifth and last, the company should further look into the existence of a Brain Drain. For example, by surveying high performing employees.\n<ul><li><b>What actionable insights can you give on the current composition of our workforce?</b></li></ul>\nThe current composition of the workforce might benefit from some adjusments in terms of hiring policies. Although there aren't any significant income differences between men and women, there are remarkably fewer women in the company, especially for job level 1 and 5 positions and the human resources department.\n<br><br>\nFinally, in terms of what profile to hire, our last recommendation is to carefully match employee's educational background with the job role, since this can improve work performance as we saw before. \n\n<h4>Discussion and Validation</h4>\nAs indicated before the <a href=\"https://www.kaggle.com/ludobenistant/hr-analytics/data\">Human Resource Analytics</a> dataset will be compared with ours. In particular, we consider the findings by <a href=\"https://www.kaggle.com/randylaosat/predicting-employee-kernelover/notebook\">Randy Lao</a>.\n\n<br/><br/>\nRandy concludes that both overworked (more than 10hr/day) and underworked employees (less than 6hr/day) generally left the company. The IBM dataset contains the feature `Overtime` of which positive values can be interpreted as overworked employees. Indeed, we also found that employees who work overtime are more likely to resign. In fact, it's our most predictive feature.\n<br/><br/>\nHe also states that employees with either really high or low evaluations should be taken into consideration for high turnover rate. We found a similar result for high performing employees. However, the feature `PerformanceMetric` requires attention since it is doubtful that all employees are really performming *\"Excellent\"* or *\"Outstanding\"*.\n<br/><br>\nSatisfaction was the biggest factor in determining turnover for him. Although, it was not the most significant predictor in our case, we also found a negative relationship between job satisfaction and attrition.\n<br/><br/>\nLastly, we also found contradictory results. Where Randy concluded that employees with 4 and 5 years experience at the company have the highest risk of leaving the company, we found that recent hires are most likely to quit.\n</div>"
    },
    {
      "metadata": {
        "_uuid": "055e9eb1554ca53a547c831194100fecdb5f1979",
        "_cell_guid": "b9402234-cdd4-4b5b-bef2-bc9647c73cfc"
      },
      "cell_type": "markdown",
      "source": "## Authors\n<table align=\"left\">\n    <tr>\n        <th>Name</th>\n        <th>Student-ID</th>\n    </tr>\n    <tr>\n        <td>Roy Klaasse Bos</td>\n        <td>2018840</td>\n    </tr>\n    <tr>\n        <td>Quentin Meeus</td>\n        <td>20176037</td>\n    </tr>\n    <tr>\n        <td>Jan Seipp</td>\n        <td>2018035</td>\n    </tr>\n</table>"
    },
    {
      "metadata": {
        "_uuid": "af95b6975a394cce92811838e0cc34ec5dc29189",
        "_cell_guid": "4823b8aa-90ea-4997-ae24-4b110446e0f9"
      },
      "cell_type": "markdown",
      "source": "## Appendix A\n<a name=\"appendix-a\"></a>\n\n**Categorical Features**\n\n| Feature | Categories | Definition / Comment | \n| :------- | :----------- | :-------- | \n| Attrition | {Yes, No} | Whether the employee is currently still working for the company. |\n| BusinessTravel | {Travel_Rarely, Travel_Frequently, Non-Travel} | How frequency the employee travels for work. |\n| Department | {R&D, Sales, HR} | The department the employee works for. An employee can only work for one department. |\n| Education | {1=Below College, 2=College, 3=Bachelor, 4=Master, 5=Doctor} | The highest level of education obtained by the employee. |\n| EducationField | {Life Sciences, Medical, Marketing, Technical Degree, Other} | The field of study for the most recently finished education program.| \n| EmployeeNumber | {1, 2, .., 2068} | The employee's unique identifier. |\n| Gender | {Male, Female} | The employee's gender (mutually exclusive). | \n| JobInvolvement | {1=Low, 2=Medium, 3=High, 4=Very High} | To what extent the employee is involved in his/her work. |\n| JobLevel | {1, 2, 3, 4, 5} | *Undefined* - (it is assumed a higher level implies a more senior position). | \n| JobRole | {SalesExecutive, Research Scientist, Laboratory Technician, Manufacturing Director, Healthcare Representative}} | The current position of the employee (mutually exclusive). |\n| JobSatisfaction | {1=Low, 2=Medium, 3=High, 4=Very High} | To what extent the employee is satisfied with his/her job. |\n| MaritalStatus | {Married, Single, Divorced} | The current relationship status of the employee (mutually exclusive). | \n| Over18 | {Yes} | Whether the employee's age is 18 or higher. Note all employees are older than 18 years old. |\n| OverTime | {Yes, No} | *Undefined* - It has been assumed \"Yes\" refers to an employee whose total working hours is regularly beyond normal working hours. |\n| PerformanceRating | {3=Excellent, 4=Outstanding} | At least to say remarkable that all evaluations are either \"excellent\" or \"outstanding\" (no \"low\" or \"good\" scores).  |\n| RelationshipSatisfaction | {1=Low, 2=Medium, 3=High, 4=Very High} | *Undefined* -  (probably the quality of relationships with colleagues and managers) | \n| StandardHours | {80} | *Undefined* - (note that all records in this column are equal to 80). |\n| StockOptionLevel | {0, 1} | *Undefined* - (probably whether the job offer includes stock options or not. |\n| WorkLifeBalance | {1=Bad, 2=Good, 3=Better, 4=Best} | To what extent the employee is able to combine work and personal life.  |\n\n\n<br>\n**Numerical Features**\n\n| Feature | Mean | Range | Definition / Comment | \n| :------- | :----------- | :----------- |  :----------- |\n| Age | 36.9 | 18-60 | The current age of the employee |\n| DailyRate | 802 | 102-1500 | *Undefined* | \n| DistanceFromHome | 9.19 | 1-29 | One-way distance from the employee's home to work. Kilometer has been assumed as the measurement unit.\n| HourlyRate | 65.9 | 30-100 | *Undefined* |\n| MonthlyIncome | 6.50K | 1.01K - 20.0K | The monthly earnings of the employee. Since the data originates from IBM the American US dollar has been assumed as the used currency. |\n| MonthlyRate | 1.4K | 2.09K - 27K | *Undefined* |\n| NumCompanies | 2.69 | 0-9 | The number of companies worked for previously (excluding the current company). |\n| PercentSalaryHike | 15.2 | 11-25 | *Undefined* - (definition is unclear, especially since employees who have never been promoted (JobLevel=1) still have a salary hike of  11% or higher). |\n| TotalWorkingYears | 11.3 | 0-40 | The total number of working years at the current company plus any previous experiences. | \n| TrainingTimesLastYear | 2.8 | 0-6 | The number of trainings the employee participated in last year. |\n| YearsAtCompany | 7.01 | 0-40 | The total number of working years at the current company. |\n| YearsInCurrentRole | 4.23 | 0-18 | The number of years the employee has worked in the current position. |\n| YearsSinceLastPromotion | 2.19 | 0-15 | The number of years since the last promotion. Note that an employee can be promoted without changing postions. |\n| YearsWithCurrManager | 4.12 | 0-17 | The number of years the employee has worked for his/her current manager. |"
    },
    {
      "metadata": {
        "_uuid": "a66c2326e467b85073beb09eaa87b3a3c4166b6e",
        "_cell_guid": "2a721923-86ff-4f77-a660-b3f01f8776ed",
        "collapsed": true,
        "trusted": false
      },
      "cell_type": "code",
      "source": "",
      "execution_count": null,
      "outputs": []
    }
  ],
  "metadata": {
    "language_info": {
      "file_extension": ".py",
      "version": "3.6.3",
      "pygments_lexer": "ipython3",
      "name": "python",
      "mimetype": "text/x-python",
      "nbconvert_exporter": "python",
      "codemirror_mode": {
        "name": "ipython",
        "version": 3
      }
    },
    "kernelspec": {
      "display_name": "Python 3",
      "language": "python",
      "name": "python3"
    }
  },
  "nbformat": 4,
  "nbformat_minor": 1
}